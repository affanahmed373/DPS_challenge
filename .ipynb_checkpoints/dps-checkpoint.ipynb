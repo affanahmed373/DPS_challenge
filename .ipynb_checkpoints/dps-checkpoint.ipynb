{
 "cells": [
  {
   "cell_type": "code",
   "execution_count": 123,
   "metadata": {},
   "outputs": [],
   "source": [
    "import pandas as pd\n"
   ]
  },
  {
   "cell_type": "code",
   "execution_count": 124,
   "metadata": {},
   "outputs": [],
   "source": [
    "\n",
    "df = pd.read_csv(\"D:/course@ovgu/job/munich_accidents.csv\")"
   ]
  },
  {
   "cell_type": "code",
   "execution_count": 125,
   "metadata": {},
   "outputs": [
    {
     "data": {
      "text/plain": [
       "<bound method DataFrame.info of            MONATSZAHL             AUSPRAEGUNG  JAHR   MONAT   WERT  \\\n",
       "0      Alkoholunfälle               insgesamt  2022  202201    NaN   \n",
       "1      Alkoholunfälle               insgesamt  2022  202202    NaN   \n",
       "2      Alkoholunfälle               insgesamt  2022  202203    NaN   \n",
       "3      Alkoholunfälle               insgesamt  2022  202204    NaN   \n",
       "4      Alkoholunfälle               insgesamt  2022  202205    NaN   \n",
       "...               ...                     ...   ...     ...    ...   \n",
       "2081  Verkehrsunfälle  Verletzte und Getötete  2000  200008  647.0   \n",
       "2082  Verkehrsunfälle  Verletzte und Getötete  2000  200009  675.0   \n",
       "2083  Verkehrsunfälle  Verletzte und Getötete  2000  200010  615.0   \n",
       "2084  Verkehrsunfälle  Verletzte und Getötete  2000  200011  578.0   \n",
       "2085  Verkehrsunfälle  Verletzte und Getötete  2000  200012  515.0   \n",
       "\n",
       "      VORJAHRESWERT  VERAEND_VORMONAT_PROZENT  VERAEND_VORJAHRESMONAT_PROZENT  \\\n",
       "0              16.0                       NaN                             NaN   \n",
       "1              14.0                       NaN                             NaN   \n",
       "2              24.0                       NaN                             NaN   \n",
       "3              16.0                       NaN                             NaN   \n",
       "4              24.0                       NaN                             NaN   \n",
       "...             ...                       ...                             ...   \n",
       "2081            NaN                    -13.04                             NaN   \n",
       "2082            NaN                      4.33                             NaN   \n",
       "2083            NaN                     -8.89                             NaN   \n",
       "2084            NaN                     -6.02                             NaN   \n",
       "2085            NaN                    -10.90                             NaN   \n",
       "\n",
       "      ZWOELF_MONATE_MITTELWERT  \n",
       "0                          NaN  \n",
       "1                          NaN  \n",
       "2                          NaN  \n",
       "3                          NaN  \n",
       "4                          NaN  \n",
       "...                        ...  \n",
       "2081                     584.0  \n",
       "2082                     594.0  \n",
       "2083                     596.0  \n",
       "2084                     594.0  \n",
       "2085                     588.0  \n",
       "\n",
       "[2086 rows x 9 columns]>"
      ]
     },
     "execution_count": 125,
     "metadata": {},
     "output_type": "execute_result"
    }
   ],
   "source": [
    "df.info"
   ]
  },
  {
   "cell_type": "code",
   "execution_count": 126,
   "metadata": {},
   "outputs": [],
   "source": [
    "df.drop(['VORJAHRESWERT', 'VERAEND_VORMONAT_PROZENT', 'VERAEND_VORJAHRESMONAT_PROZENT','ZWOELF_MONATE_MITTELWERT'], inplace=True, axis=1)"
   ]
  },
  {
   "cell_type": "code",
   "execution_count": 127,
   "metadata": {},
   "outputs": [
    {
     "name": "stdout",
     "output_type": "stream",
     "text": [
      "           MONATSZAHL             AUSPRAEGUNG  JAHR   MONAT   WERT\n",
      "0      Alkoholunfälle               insgesamt  2022  202201    NaN\n",
      "1      Alkoholunfälle               insgesamt  2022  202202    NaN\n",
      "2      Alkoholunfälle               insgesamt  2022  202203    NaN\n",
      "3      Alkoholunfälle               insgesamt  2022  202204    NaN\n",
      "4      Alkoholunfälle               insgesamt  2022  202205    NaN\n",
      "...               ...                     ...   ...     ...    ...\n",
      "2081  Verkehrsunfälle  Verletzte und Getötete  2000  200008  647.0\n",
      "2082  Verkehrsunfälle  Verletzte und Getötete  2000  200009  675.0\n",
      "2083  Verkehrsunfälle  Verletzte und Getötete  2000  200010  615.0\n",
      "2084  Verkehrsunfälle  Verletzte und Getötete  2000  200011  578.0\n",
      "2085  Verkehrsunfälle  Verletzte und Getötete  2000  200012  515.0\n",
      "\n",
      "[2086 rows x 5 columns]\n"
     ]
    }
   ],
   "source": [
    "print(df)"
   ]
  },
  {
   "cell_type": "code",
   "execution_count": 128,
   "metadata": {},
   "outputs": [],
   "source": [
    "import matplotlib.pyplot as plt"
   ]
  },
  {
   "cell_type": "code",
   "execution_count": 132,
   "metadata": {},
   "outputs": [],
   "source": [
    "attrs = df['MONATSZAHL'].unique()\n",
    "attrs_counts = df['MONATSZAHL'].value_counts()"
   ]
  },
  {
   "cell_type": "code",
   "execution_count": 154,
   "metadata": {},
   "outputs": [
    {
     "data": {
      "image/png": "[encoded data removed]",
      "text/plain": [
       "<Figure size 432x288 with 1 Axes>"
      ]
     },
     "metadata": {
      "needs_background": "light"
     },
     "output_type": "display_data"
    }
   ],
   "source": [
    "fig, ax = plt.subplots()\n",
    "width =0.4\n",
    "temp = ax.bar(attrs, attrs_counts, width)\n",
    "ax.set_title(\"Accidents per Category\")\n",
    "ax.set_ylabel (\"# of Accidents\")\n",
    "ax.set_xlabel (\"Category\")\n",
    "ax.bar_label(temp)\n",
    "plt.show()"
   ]
  },
  {
   "cell_type": "code",
   "execution_count": null,
   "metadata": {},
   "outputs": [],
   "source": [
    "fig, ax = plt.subplots()\n",
    "width =0.4\n",
    "temp = ax.bar(attrs, attrs_counts, width)\n",
    "ax.set_title(\"Accidents per Category per year\")\n",
    "ax.set_ylabel (\"# of Accidents\")\n",
    "ax.set_xlabel (\"Category\")\n",
    "ax.bar_label(temp)\n",
    "plt.show()"
   ]
  }
 ],
 "metadata": {
  "kernelspec": {
   "display_name": "Python 3 (ipykernel)",
   "language": "python",
   "name": "python3"
  },
  "language_info": {
   "codemirror_mode": {
    "name": "ipython",
    "version": 3
   },
   "file_extension": ".py",
   "mimetype": "text/x-python",
   "name": "python",
   "nbconvert_exporter": "python",
   "pygments_lexer": "ipython3",
   "version": "3.7.13"
  }
 },
 "nbformat": 4,
 "nbformat_minor": 2
}
